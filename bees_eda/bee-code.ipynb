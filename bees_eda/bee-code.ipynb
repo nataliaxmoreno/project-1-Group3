{
 "cells": [
  {
   "cell_type": "code",
   "execution_count": 1,
   "id": "9738de27",
   "metadata": {},
   "outputs": [],
   "source": [
    "#Load the libraries\n",
    "import pandas as pd\n",
    "import numpy as np\n",
    "import matplotlib.pyplot as plt\n",
    "import os\n",
    "import csv\n",
    "%matplotlib inline"
   ]
  },
  {
   "cell_type": "code",
   "execution_count": 2,
   "id": "471bacd9",
   "metadata": {},
   "outputs": [],
   "source": [
    "#Import Bee CSV\n",
    "bees_data = pd.read_csv(\"honey bees.csv\")"
   ]
  },
  {
   "cell_type": "code",
   "execution_count": 3,
   "id": "d5c5da25",
   "metadata": {},
   "outputs": [
    {
     "data": {
      "text/html": [
       "<div>\n",
       "<style scoped>\n",
       "    .dataframe tbody tr th:only-of-type {\n",
       "        vertical-align: middle;\n",
       "    }\n",
       "\n",
       "    .dataframe tbody tr th {\n",
       "        vertical-align: top;\n",
       "    }\n",
       "\n",
       "    .dataframe thead th {\n",
       "        text-align: right;\n",
       "    }\n",
       "</style>\n",
       "<table border=\"1\" class=\"dataframe\">\n",
       "  <thead>\n",
       "    <tr style=\"text-align: right;\">\n",
       "      <th></th>\n",
       "      <th>state</th>\n",
       "      <th>numcol</th>\n",
       "      <th>yieldpercol</th>\n",
       "      <th>totalprod</th>\n",
       "      <th>stocks</th>\n",
       "      <th>priceperlb</th>\n",
       "      <th>prodvalue</th>\n",
       "      <th>year</th>\n",
       "    </tr>\n",
       "  </thead>\n",
       "  <tbody>\n",
       "    <tr>\n",
       "      <th>0</th>\n",
       "      <td>AL</td>\n",
       "      <td>16000.0</td>\n",
       "      <td>71</td>\n",
       "      <td>1136000.0</td>\n",
       "      <td>159000.0</td>\n",
       "      <td>0.72</td>\n",
       "      <td>818000.0</td>\n",
       "      <td>1998</td>\n",
       "    </tr>\n",
       "    <tr>\n",
       "      <th>1</th>\n",
       "      <td>AZ</td>\n",
       "      <td>55000.0</td>\n",
       "      <td>60</td>\n",
       "      <td>3300000.0</td>\n",
       "      <td>1485000.0</td>\n",
       "      <td>0.64</td>\n",
       "      <td>2112000.0</td>\n",
       "      <td>1998</td>\n",
       "    </tr>\n",
       "    <tr>\n",
       "      <th>2</th>\n",
       "      <td>AR</td>\n",
       "      <td>53000.0</td>\n",
       "      <td>65</td>\n",
       "      <td>3445000.0</td>\n",
       "      <td>1688000.0</td>\n",
       "      <td>0.59</td>\n",
       "      <td>2033000.0</td>\n",
       "      <td>1998</td>\n",
       "    </tr>\n",
       "    <tr>\n",
       "      <th>3</th>\n",
       "      <td>CA</td>\n",
       "      <td>450000.0</td>\n",
       "      <td>83</td>\n",
       "      <td>37350000.0</td>\n",
       "      <td>12326000.0</td>\n",
       "      <td>0.62</td>\n",
       "      <td>23157000.0</td>\n",
       "      <td>1998</td>\n",
       "    </tr>\n",
       "    <tr>\n",
       "      <th>4</th>\n",
       "      <td>CO</td>\n",
       "      <td>27000.0</td>\n",
       "      <td>72</td>\n",
       "      <td>1944000.0</td>\n",
       "      <td>1594000.0</td>\n",
       "      <td>0.70</td>\n",
       "      <td>1361000.0</td>\n",
       "      <td>1998</td>\n",
       "    </tr>\n",
       "    <tr>\n",
       "      <th>...</th>\n",
       "      <td>...</td>\n",
       "      <td>...</td>\n",
       "      <td>...</td>\n",
       "      <td>...</td>\n",
       "      <td>...</td>\n",
       "      <td>...</td>\n",
       "      <td>...</td>\n",
       "      <td>...</td>\n",
       "    </tr>\n",
       "    <tr>\n",
       "      <th>901</th>\n",
       "      <td>VA</td>\n",
       "      <td>5000.0</td>\n",
       "      <td>39</td>\n",
       "      <td>195000.0</td>\n",
       "      <td>49000.0</td>\n",
       "      <td>7.51</td>\n",
       "      <td>1464000.0</td>\n",
       "      <td>2019</td>\n",
       "    </tr>\n",
       "    <tr>\n",
       "      <th>902</th>\n",
       "      <td>WA</td>\n",
       "      <td>81000.0</td>\n",
       "      <td>35</td>\n",
       "      <td>2835000.0</td>\n",
       "      <td>1191000.0</td>\n",
       "      <td>2.12</td>\n",
       "      <td>6010000.0</td>\n",
       "      <td>2019</td>\n",
       "    </tr>\n",
       "    <tr>\n",
       "      <th>903</th>\n",
       "      <td>WV</td>\n",
       "      <td>6000.0</td>\n",
       "      <td>37</td>\n",
       "      <td>222000.0</td>\n",
       "      <td>47000.0</td>\n",
       "      <td>4.50</td>\n",
       "      <td>999000.0</td>\n",
       "      <td>2019</td>\n",
       "    </tr>\n",
       "    <tr>\n",
       "      <th>904</th>\n",
       "      <td>WI</td>\n",
       "      <td>46000.0</td>\n",
       "      <td>47</td>\n",
       "      <td>2162000.0</td>\n",
       "      <td>692000.0</td>\n",
       "      <td>2.99</td>\n",
       "      <td>6464000.0</td>\n",
       "      <td>2019</td>\n",
       "    </tr>\n",
       "    <tr>\n",
       "      <th>905</th>\n",
       "      <td>WY</td>\n",
       "      <td>39000.0</td>\n",
       "      <td>56</td>\n",
       "      <td>2184000.0</td>\n",
       "      <td>306000.0</td>\n",
       "      <td>1.35</td>\n",
       "      <td>2948000.0</td>\n",
       "      <td>2019</td>\n",
       "    </tr>\n",
       "  </tbody>\n",
       "</table>\n",
       "<p>906 rows × 8 columns</p>\n",
       "</div>"
      ],
      "text/plain": [
       "    state    numcol  yieldpercol   totalprod      stocks  priceperlb  \\\n",
       "0      AL   16000.0           71   1136000.0    159000.0        0.72   \n",
       "1      AZ   55000.0           60   3300000.0   1485000.0        0.64   \n",
       "2      AR   53000.0           65   3445000.0   1688000.0        0.59   \n",
       "3      CA  450000.0           83  37350000.0  12326000.0        0.62   \n",
       "4      CO   27000.0           72   1944000.0   1594000.0        0.70   \n",
       "..    ...       ...          ...         ...         ...         ...   \n",
       "901    VA    5000.0           39    195000.0     49000.0        7.51   \n",
       "902    WA   81000.0           35   2835000.0   1191000.0        2.12   \n",
       "903    WV    6000.0           37    222000.0     47000.0        4.50   \n",
       "904    WI   46000.0           47   2162000.0    692000.0        2.99   \n",
       "905    WY   39000.0           56   2184000.0    306000.0        1.35   \n",
       "\n",
       "      prodvalue  year  \n",
       "0      818000.0  1998  \n",
       "1     2112000.0  1998  \n",
       "2     2033000.0  1998  \n",
       "3    23157000.0  1998  \n",
       "4     1361000.0  1998  \n",
       "..          ...   ...  \n",
       "901   1464000.0  2019  \n",
       "902   6010000.0  2019  \n",
       "903    999000.0  2019  \n",
       "904   6464000.0  2019  \n",
       "905   2948000.0  2019  \n",
       "\n",
       "[906 rows x 8 columns]"
      ]
     },
     "execution_count": 3,
     "metadata": {},
     "output_type": "execute_result"
    }
   ],
   "source": [
    "#Show the data\n",
    "bees_data"
   ]
  },
  {
   "cell_type": "code",
   "execution_count": 6,
   "id": "b0ca7403",
   "metadata": {},
   "outputs": [],
   "source": [
    "#Add up years\n",
    "bees_data_groupby_year_df =  bees_data.groupby(['year'])\n",
    "bees_data_yeartotal_df = bees_data_groupby_year_df.sum() "
   ]
  },
  {
   "cell_type": "code",
   "execution_count": 7,
   "id": "0cebc502",
   "metadata": {},
   "outputs": [],
   "source": [
    "bees_data_yeartotal_df.index.name = 'year'"
   ]
  },
  {
   "cell_type": "code",
   "execution_count": 9,
   "id": "83732807",
   "metadata": {},
   "outputs": [],
   "source": [
    "#Rename Columns\n",
    "bees_data_yeartotal_df = bees_data_yeartotal_df.rename(columns={\"numcol\": \"Number of Colonies\",\n",
    "                                     \"yieldpercol\":\"Yield Per Colony\",\"totalprod\": \"Total Production\",\n",
    "                                     \"stocks\": \"Stocks\", \"priceperlb\": \"Price Per Pound\", \n",
    "                                      \"prodvalue\": \"Production Value\", \"year\": \"Year\"})"
   ]
  },
  {
   "cell_type": "code",
   "execution_count": 10,
   "id": "2831e364",
   "metadata": {},
   "outputs": [
    {
     "data": {
      "text/html": [
       "<div>\n",
       "<style scoped>\n",
       "    .dataframe tbody tr th:only-of-type {\n",
       "        vertical-align: middle;\n",
       "    }\n",
       "\n",
       "    .dataframe tbody tr th {\n",
       "        vertical-align: top;\n",
       "    }\n",
       "\n",
       "    .dataframe thead th {\n",
       "        text-align: right;\n",
       "    }\n",
       "</style>\n",
       "<table border=\"1\" class=\"dataframe\">\n",
       "  <thead>\n",
       "    <tr style=\"text-align: right;\">\n",
       "      <th></th>\n",
       "      <th>Number of Colonies</th>\n",
       "      <th>Yield Per Colony</th>\n",
       "      <th>Total Production</th>\n",
       "      <th>Stocks</th>\n",
       "      <th>Price Per Pound</th>\n",
       "      <th>Production Value</th>\n",
       "    </tr>\n",
       "    <tr>\n",
       "      <th>year</th>\n",
       "      <th></th>\n",
       "      <th></th>\n",
       "      <th></th>\n",
       "      <th></th>\n",
       "      <th></th>\n",
       "      <th></th>\n",
       "    </tr>\n",
       "  </thead>\n",
       "  <tbody>\n",
       "    <tr>\n",
       "      <th>1998</th>\n",
       "      <td>2621000.0</td>\n",
       "      <td>3008</td>\n",
       "      <td>219519000.0</td>\n",
       "      <td>80565000.0</td>\n",
       "      <td>35.80</td>\n",
       "      <td>146091000.0</td>\n",
       "    </tr>\n",
       "    <tr>\n",
       "      <th>1999</th>\n",
       "      <td>2637000.0</td>\n",
       "      <td>2815</td>\n",
       "      <td>202387000.0</td>\n",
       "      <td>78390000.0</td>\n",
       "      <td>34.58</td>\n",
       "      <td>123657000.0</td>\n",
       "    </tr>\n",
       "    <tr>\n",
       "      <th>2000</th>\n",
       "      <td>2604000.0</td>\n",
       "      <td>2906</td>\n",
       "      <td>219558000.0</td>\n",
       "      <td>84956000.0</td>\n",
       "      <td>34.03</td>\n",
       "      <td>131568000.0</td>\n",
       "    </tr>\n",
       "    <tr>\n",
       "      <th>2001</th>\n",
       "      <td>2542000.0</td>\n",
       "      <td>2840</td>\n",
       "      <td>185748000.0</td>\n",
       "      <td>64764000.0</td>\n",
       "      <td>40.12</td>\n",
       "      <td>132282000.0</td>\n",
       "    </tr>\n",
       "    <tr>\n",
       "      <th>2002</th>\n",
       "      <td>2565000.0</td>\n",
       "      <td>2939</td>\n",
       "      <td>171265000.0</td>\n",
       "      <td>39177000.0</td>\n",
       "      <td>60.34</td>\n",
       "      <td>227302000.0</td>\n",
       "    </tr>\n",
       "  </tbody>\n",
       "</table>\n",
       "</div>"
      ],
      "text/plain": [
       "      Number of Colonies  Yield Per Colony  Total Production      Stocks  \\\n",
       "year                                                                       \n",
       "1998           2621000.0              3008       219519000.0  80565000.0   \n",
       "1999           2637000.0              2815       202387000.0  78390000.0   \n",
       "2000           2604000.0              2906       219558000.0  84956000.0   \n",
       "2001           2542000.0              2840       185748000.0  64764000.0   \n",
       "2002           2565000.0              2939       171265000.0  39177000.0   \n",
       "\n",
       "      Price Per Pound  Production Value  \n",
       "year                                     \n",
       "1998            35.80       146091000.0  \n",
       "1999            34.58       123657000.0  \n",
       "2000            34.03       131568000.0  \n",
       "2001            40.12       132282000.0  \n",
       "2002            60.34       227302000.0  "
      ]
     },
     "execution_count": 10,
     "metadata": {},
     "output_type": "execute_result"
    }
   ],
   "source": [
    "bees_data_yeartotal_df.head()"
   ]
  },
  {
   "cell_type": "code",
   "execution_count": 12,
   "id": "f1475eaf",
   "metadata": {},
   "outputs": [],
   "source": [
    "bees_data_yeartotal_df.to_csv(\"cleanhoney.csv\", header=True)"
   ]
  },
  {
   "cell_type": "code",
   "execution_count": null,
   "id": "df5b436d",
   "metadata": {},
   "outputs": [],
   "source": [
    "#Average production of honey per state across the years\n",
    "bees_state_prod = bees_data[['state', 'totalprod']].groupby('state').mean().round()"
   ]
  },
  {
   "cell_type": "code",
   "execution_count": null,
   "id": "8d17e8eb",
   "metadata": {},
   "outputs": [],
   "source": [
    "bees_state_prod = pd.DataFrame(bees_state_prod.groupby(\"state\")[\"totalprod\"].mean().round())"
   ]
  },
  {
   "cell_type": "code",
   "execution_count": null,
   "id": "b349fc4b",
   "metadata": {},
   "outputs": [],
   "source": [
    "bees_state_prod"
   ]
  },
  {
   "cell_type": "code",
   "execution_count": null,
   "id": "0d2384b7",
   "metadata": {},
   "outputs": [],
   "source": [
    "bees_state_prod.sort_values('totalprod', ascending=False, inplace=True)"
   ]
  },
  {
   "cell_type": "code",
   "execution_count": null,
   "id": "26f40617",
   "metadata": {},
   "outputs": [],
   "source": [
    "#Bar chart for total production per state\n",
    "x_axis = np.arange(len(bees_state_prod))\n",
    "tick_locations = bees_data['state'].unique()\n",
    "\n",
    "plt.bar(x_axis, bees_state_prod['totalprod'])\n",
    "plt.xticks(x_axis, tick_locations, rotation=\"vertical\")\n",
    "\n",
    "\n",
    "plt.title(\"Total Honey Production per State\")\n",
    "plt.xlabel(\"State\")\n",
    "plt.ylabel(\"Total Production in Pounds\")\n",
    "\n",
    "plt.figure(figsize=(100,10))\n",
    "\n",
    "\n",
    "plt.show()\n"
   ]
  },
  {
   "cell_type": "code",
   "execution_count": null,
   "id": "872107a3",
   "metadata": {},
   "outputs": [],
   "source": [
    "#Count years in dataset\n",
    "bees_data['year'].nunique()"
   ]
  },
  {
   "cell_type": "code",
   "execution_count": null,
   "id": "29421b2d",
   "metadata": {},
   "outputs": [],
   "source": [
    "bees_data['year'].min()\n"
   ]
  },
  {
   "cell_type": "code",
   "execution_count": null,
   "id": "c1e54ee2",
   "metadata": {},
   "outputs": [],
   "source": [
    "bees_data['year'].max()"
   ]
  },
  {
   "cell_type": "code",
   "execution_count": null,
   "id": "5461e555",
   "metadata": {},
   "outputs": [],
   "source": [
    "pd.DataFrame(bees_data)"
   ]
  },
  {
   "cell_type": "code",
   "execution_count": null,
   "id": "6df5cf64",
   "metadata": {},
   "outputs": [],
   "source": [
    "bees_data.sort_values(by='year')"
   ]
  },
  {
   "cell_type": "code",
   "execution_count": null,
   "id": "4c535252",
   "metadata": {},
   "outputs": [],
   "source": [
    "bees_data.columns\n"
   ]
  },
  {
   "cell_type": "code",
   "execution_count": null,
   "id": "9f8d64c6",
   "metadata": {
    "scrolled": true
   },
   "outputs": [],
   "source": [
    "bees_data_renamed_df = bees_data.rename(columns={\"state\":\"State\", \"numcol\": \"Number of Colonies\",\n",
    "                                     \"yieldpercol\":\"Yield Per Colony\",\"totalprod\": \"Total Production\",\n",
    "                                     \"stocks\": \"Stocks\", \"priceperlb\": \"Price Per Pound\", \n",
    "                                      \"prodvalue\": \"Production Value\", \"year\": \"Year\"})\n",
    "bees_data_renamed_df"
   ]
  },
  {
   "cell_type": "code",
   "execution_count": null,
   "id": "96bf7809",
   "metadata": {},
   "outputs": [],
   "source": [
    "bees_data_renamed_df.count()"
   ]
  },
  {
   "cell_type": "code",
   "execution_count": null,
   "id": "2c273301",
   "metadata": {},
   "outputs": [],
   "source": [
    "bees_data_renamed_df.describe()"
   ]
  },
  {
   "cell_type": "code",
   "execution_count": null,
   "id": "5160489d",
   "metadata": {},
   "outputs": [],
   "source": [
    "bees_data_renamed_df.dtypes"
   ]
  },
  {
   "cell_type": "code",
   "execution_count": null,
   "id": "1d5137aa",
   "metadata": {},
   "outputs": [],
   "source": [
    "honeyprod_year = bees_data_renamed_df.astype('category')"
   ]
  },
  {
   "cell_type": "code",
   "execution_count": null,
   "id": "41b2d66c",
   "metadata": {},
   "outputs": [],
   "source": [
    "honeyprod_year.describe()"
   ]
  },
  {
   "cell_type": "code",
   "execution_count": null,
   "id": "3f2badc4",
   "metadata": {},
   "outputs": [],
   "source": []
  },
  {
   "cell_type": "code",
   "execution_count": null,
   "id": "10878cfb",
   "metadata": {},
   "outputs": [],
   "source": []
  }
 ],
 "metadata": {
  "kernelspec": {
   "display_name": "Python 3 (ipykernel)",
   "language": "python",
   "name": "python3"
  },
  "language_info": {
   "codemirror_mode": {
    "name": "ipython",
    "version": 3
   },
   "file_extension": ".py",
   "mimetype": "text/x-python",
   "name": "python",
   "nbconvert_exporter": "python",
   "pygments_lexer": "ipython3",
   "version": "3.9.12"
  }
 },
 "nbformat": 4,
 "nbformat_minor": 5
}

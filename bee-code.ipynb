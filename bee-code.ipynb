{
 "cells": [
  {
   "cell_type": "code",
   "execution_count": 1,
   "id": "156e92cc",
   "metadata": {},
   "outputs": [],
   "source": [
    "#Start\n",
    "import pandas as pd\n",
    "import numpy as np\n",
    "import scipy.stats as st\n",
    "from scipy.stats import linregress\n",
    "from scipy import stats\n",
    "import matplotlib.pyplot as plt\n",
    "import os\n",
    "import csv\n",
    "%matplotlib inline"
   ]
  },
  {
   "cell_type": "code",
   "execution_count": 2,
   "id": "31cfc9f8",
   "metadata": {},
   "outputs": [],
   "source": [
    "#Import Bee CSV\n",
    "bees_data = pd.read_csv(\"honey bees.csv\")\n",
    "ghg_emissions_data = pd.read_csv(\"Table 2-10.csv\")\n"
   ]
  },
  {
   "cell_type": "code",
   "execution_count": 3,
   "id": "e92d8da4",
   "metadata": {},
   "outputs": [
    {
     "data": {
      "text/html": [
       "<div>\n",
       "<style scoped>\n",
       "    .dataframe tbody tr th:only-of-type {\n",
       "        vertical-align: middle;\n",
       "    }\n",
       "\n",
       "    .dataframe tbody tr th {\n",
       "        vertical-align: top;\n",
       "    }\n",
       "\n",
       "    .dataframe thead th {\n",
       "        text-align: right;\n",
       "    }\n",
       "</style>\n",
       "<table border=\"1\" class=\"dataframe\">\n",
       "  <thead>\n",
       "    <tr style=\"text-align: right;\">\n",
       "      <th></th>\n",
       "      <th>numcol</th>\n",
       "      <th>yieldpercol</th>\n",
       "      <th>totalprod</th>\n",
       "      <th>stocks</th>\n",
       "      <th>priceperlb</th>\n",
       "      <th>prodvalue</th>\n",
       "    </tr>\n",
       "    <tr>\n",
       "      <th>year</th>\n",
       "      <th></th>\n",
       "      <th></th>\n",
       "      <th></th>\n",
       "      <th></th>\n",
       "      <th></th>\n",
       "      <th></th>\n",
       "    </tr>\n",
       "  </thead>\n",
       "  <tbody>\n",
       "    <tr>\n",
       "      <th>1998</th>\n",
       "      <td>2621000.0</td>\n",
       "      <td>3008</td>\n",
       "      <td>219519000.0</td>\n",
       "      <td>80565000.0</td>\n",
       "      <td>35.80</td>\n",
       "      <td>146091000.0</td>\n",
       "    </tr>\n",
       "    <tr>\n",
       "      <th>1999</th>\n",
       "      <td>2637000.0</td>\n",
       "      <td>2815</td>\n",
       "      <td>202387000.0</td>\n",
       "      <td>78390000.0</td>\n",
       "      <td>34.58</td>\n",
       "      <td>123657000.0</td>\n",
       "    </tr>\n",
       "    <tr>\n",
       "      <th>2000</th>\n",
       "      <td>2604000.0</td>\n",
       "      <td>2906</td>\n",
       "      <td>219558000.0</td>\n",
       "      <td>84956000.0</td>\n",
       "      <td>34.03</td>\n",
       "      <td>131568000.0</td>\n",
       "    </tr>\n",
       "    <tr>\n",
       "      <th>2001</th>\n",
       "      <td>2542000.0</td>\n",
       "      <td>2840</td>\n",
       "      <td>185748000.0</td>\n",
       "      <td>64764000.0</td>\n",
       "      <td>40.12</td>\n",
       "      <td>132282000.0</td>\n",
       "    </tr>\n",
       "    <tr>\n",
       "      <th>2002</th>\n",
       "      <td>2565000.0</td>\n",
       "      <td>2939</td>\n",
       "      <td>171265000.0</td>\n",
       "      <td>39177000.0</td>\n",
       "      <td>60.34</td>\n",
       "      <td>227302000.0</td>\n",
       "    </tr>\n",
       "  </tbody>\n",
       "</table>\n",
       "</div>"
      ],
      "text/plain": [
       "         numcol  yieldpercol    totalprod      stocks  priceperlb    prodvalue\n",
       "year                                                                          \n",
       "1998  2621000.0         3008  219519000.0  80565000.0       35.80  146091000.0\n",
       "1999  2637000.0         2815  202387000.0  78390000.0       34.58  123657000.0\n",
       "2000  2604000.0         2906  219558000.0  84956000.0       34.03  131568000.0\n",
       "2001  2542000.0         2840  185748000.0  64764000.0       40.12  132282000.0\n",
       "2002  2565000.0         2939  171265000.0  39177000.0       60.34  227302000.0"
      ]
     },
     "execution_count": 3,
     "metadata": {},
     "output_type": "execute_result"
    }
   ],
   "source": [
    "# Group data by year and add up yearly totals\n",
    "bees_data_df = bees_data.groupby(['year'])\n",
    "bees_data_df = bees_data_df.sum()\n",
    "bees_data_df.head ()"
   ]
  },
  {
   "cell_type": "code",
   "execution_count": 4,
   "id": "390968ee",
   "metadata": {},
   "outputs": [
    {
     "data": {
      "text/html": [
       "<div>\n",
       "<style scoped>\n",
       "    .dataframe tbody tr th:only-of-type {\n",
       "        vertical-align: middle;\n",
       "    }\n",
       "\n",
       "    .dataframe tbody tr th {\n",
       "        vertical-align: top;\n",
       "    }\n",
       "\n",
       "    .dataframe thead th {\n",
       "        text-align: right;\n",
       "    }\n",
       "</style>\n",
       "<table border=\"1\" class=\"dataframe\">\n",
       "  <thead>\n",
       "    <tr style=\"text-align: right;\">\n",
       "      <th></th>\n",
       "      <th>numcol</th>\n",
       "      <th>yieldpercol</th>\n",
       "      <th>totalprod</th>\n",
       "      <th>stocks</th>\n",
       "      <th>priceperlb</th>\n",
       "      <th>prodvalue</th>\n",
       "    </tr>\n",
       "    <tr>\n",
       "      <th>year</th>\n",
       "      <th></th>\n",
       "      <th></th>\n",
       "      <th></th>\n",
       "      <th></th>\n",
       "      <th></th>\n",
       "      <th></th>\n",
       "    </tr>\n",
       "  </thead>\n",
       "  <tbody>\n",
       "    <tr>\n",
       "      <th>1998</th>\n",
       "      <td>2621000.0</td>\n",
       "      <td>3008</td>\n",
       "      <td>219519000.0</td>\n",
       "      <td>80565000.0</td>\n",
       "      <td>35.80</td>\n",
       "      <td>146091000.0</td>\n",
       "    </tr>\n",
       "    <tr>\n",
       "      <th>1999</th>\n",
       "      <td>2637000.0</td>\n",
       "      <td>2815</td>\n",
       "      <td>202387000.0</td>\n",
       "      <td>78390000.0</td>\n",
       "      <td>34.58</td>\n",
       "      <td>123657000.0</td>\n",
       "    </tr>\n",
       "    <tr>\n",
       "      <th>2000</th>\n",
       "      <td>2604000.0</td>\n",
       "      <td>2906</td>\n",
       "      <td>219558000.0</td>\n",
       "      <td>84956000.0</td>\n",
       "      <td>34.03</td>\n",
       "      <td>131568000.0</td>\n",
       "    </tr>\n",
       "    <tr>\n",
       "      <th>2001</th>\n",
       "      <td>2542000.0</td>\n",
       "      <td>2840</td>\n",
       "      <td>185748000.0</td>\n",
       "      <td>64764000.0</td>\n",
       "      <td>40.12</td>\n",
       "      <td>132282000.0</td>\n",
       "    </tr>\n",
       "    <tr>\n",
       "      <th>2002</th>\n",
       "      <td>2565000.0</td>\n",
       "      <td>2939</td>\n",
       "      <td>171265000.0</td>\n",
       "      <td>39177000.0</td>\n",
       "      <td>60.34</td>\n",
       "      <td>227302000.0</td>\n",
       "    </tr>\n",
       "  </tbody>\n",
       "</table>\n",
       "</div>"
      ],
      "text/plain": [
       "         numcol  yieldpercol    totalprod      stocks  priceperlb    prodvalue\n",
       "year                                                                          \n",
       "1998  2621000.0         3008  219519000.0  80565000.0       35.80  146091000.0\n",
       "1999  2637000.0         2815  202387000.0  78390000.0       34.58  123657000.0\n",
       "2000  2604000.0         2906  219558000.0  84956000.0       34.03  131568000.0\n",
       "2001  2542000.0         2840  185748000.0  64764000.0       40.12  132282000.0\n",
       "2002  2565000.0         2939  171265000.0  39177000.0       60.34  227302000.0"
      ]
     },
     "execution_count": 4,
     "metadata": {},
     "output_type": "execute_result"
    }
   ],
   "source": [
    "bees_data_df.index = bees_data_df.index.astype(int)\n",
    "bees_data_df.head()"
   ]
  },
  {
   "cell_type": "code",
   "execution_count": 5,
   "id": "9c3d20e4",
   "metadata": {},
   "outputs": [
    {
     "data": {
      "text/html": [
       "<div>\n",
       "<style scoped>\n",
       "    .dataframe tbody tr th:only-of-type {\n",
       "        vertical-align: middle;\n",
       "    }\n",
       "\n",
       "    .dataframe tbody tr th {\n",
       "        vertical-align: top;\n",
       "    }\n",
       "\n",
       "    .dataframe thead th {\n",
       "        text-align: right;\n",
       "    }\n",
       "</style>\n",
       "<table border=\"1\" class=\"dataframe\">\n",
       "  <thead>\n",
       "    <tr style=\"text-align: right;\">\n",
       "      <th></th>\n",
       "      <th>year</th>\n",
       "      <th>Transportation</th>\n",
       "      <th>Electric Power Industry</th>\n",
       "      <th>Industry</th>\n",
       "      <th>Agriculture</th>\n",
       "      <th>Commercial</th>\n",
       "      <th>Residential</th>\n",
       "      <th>CO2 from Fossil Fuel Combustion</th>\n",
       "      <th>CO2 from Fossil Fuel Combustion.1</th>\n",
       "      <th>Non-Energy Use of Fuels</th>\n",
       "      <th>Stationary Combustion</th>\n",
       "      <th>Total Emissions (Sources)</th>\n",
       "      <th>LULUCF Sector Net Total b</th>\n",
       "      <th>Net Emissions (Sources and Sinks)</th>\n",
       "    </tr>\n",
       "  </thead>\n",
       "  <tbody>\n",
       "    <tr>\n",
       "      <th>0</th>\n",
       "      <td>1998</td>\n",
       "      <td>1,792.40</td>\n",
       "      <td>2,229.70</td>\n",
       "      <td>1,661.80</td>\n",
       "      <td>621.8</td>\n",
       "      <td>403.0</td>\n",
       "      <td>346.9</td>\n",
       "      <td>331.6</td>\n",
       "      <td>22.5</td>\n",
       "      <td>5.1</td>\n",
       "      <td>0.1</td>\n",
       "      <td>7,083.30</td>\n",
       "      <td>-862.8</td>\n",
       "      <td>6,220.50</td>\n",
       "    </tr>\n",
       "    <tr>\n",
       "      <th>1</th>\n",
       "      <td>1999</td>\n",
       "      <td>1,863.40</td>\n",
       "      <td>2,243.80</td>\n",
       "      <td>1,609.30</td>\n",
       "      <td>612.7</td>\n",
       "      <td>399.4</td>\n",
       "      <td>366.7</td>\n",
       "      <td>350.9</td>\n",
       "      <td>21.0</td>\n",
       "      <td>8.9</td>\n",
       "      <td>0.1</td>\n",
       "      <td>7,125.40</td>\n",
       "      <td>-856.6</td>\n",
       "      <td>6,268.80</td>\n",
       "    </tr>\n",
       "    <tr>\n",
       "      <th>2</th>\n",
       "      <td>2000</td>\n",
       "      <td>1,913.70</td>\n",
       "      <td>2,349.50</td>\n",
       "      <td>1,598.80</td>\n",
       "      <td>598.1</td>\n",
       "      <td>413.7</td>\n",
       "      <td>388.0</td>\n",
       "      <td>371.7</td>\n",
       "      <td>42.4</td>\n",
       "      <td>9.3</td>\n",
       "      <td>0.2</td>\n",
       "      <td>7,313.60</td>\n",
       "      <td>-854.0</td>\n",
       "      <td>6,459.70</td>\n",
       "    </tr>\n",
       "    <tr>\n",
       "      <th>3</th>\n",
       "      <td>2001</td>\n",
       "      <td>1,885.60</td>\n",
       "      <td>2,310.00</td>\n",
       "      <td>1,549.20</td>\n",
       "      <td>618.9</td>\n",
       "      <td>402.7</td>\n",
       "      <td>378.1</td>\n",
       "      <td>363.1</td>\n",
       "      <td>52.6</td>\n",
       "      <td>5.6</td>\n",
       "      <td>0.2</td>\n",
       "      <td>7,203.00</td>\n",
       "      <td>-852.3</td>\n",
       "      <td>6,350.70</td>\n",
       "    </tr>\n",
       "    <tr>\n",
       "      <th>4</th>\n",
       "      <td>2002</td>\n",
       "      <td>1,926.10</td>\n",
       "      <td>2,325.90</td>\n",
       "      <td>1,532.10</td>\n",
       "      <td>621.9</td>\n",
       "      <td>404.3</td>\n",
       "      <td>375.3</td>\n",
       "      <td>361.1</td>\n",
       "      <td>49.3</td>\n",
       "      <td>9.3</td>\n",
       "      <td>0.2</td>\n",
       "      <td>7,244.30</td>\n",
       "      <td>-815.7</td>\n",
       "      <td>6,428.60</td>\n",
       "    </tr>\n",
       "  </tbody>\n",
       "</table>\n",
       "</div>"
      ],
      "text/plain": [
       "   year Transportation Electric Power Industry  Industry  Agriculture  \\\n",
       "0  1998       1,792.40                2,229.70  1,661.80        621.8   \n",
       "1  1999       1,863.40                2,243.80  1,609.30        612.7   \n",
       "2  2000       1,913.70                2,349.50  1,598.80        598.1   \n",
       "3  2001       1,885.60                2,310.00  1,549.20        618.9   \n",
       "4  2002       1,926.10                2,325.90  1,532.10        621.9   \n",
       "\n",
       "   Commercial  Residential  CO2 from Fossil Fuel Combustion  \\\n",
       "0       403.0        346.9                            331.6   \n",
       "1       399.4        366.7                            350.9   \n",
       "2       413.7        388.0                            371.7   \n",
       "3       402.7        378.1                            363.1   \n",
       "4       404.3        375.3                            361.1   \n",
       "\n",
       "   CO2 from Fossil Fuel Combustion.1  Non-Energy Use of Fuels  \\\n",
       "0                               22.5                      5.1   \n",
       "1                               21.0                      8.9   \n",
       "2                               42.4                      9.3   \n",
       "3                               52.6                      5.6   \n",
       "4                               49.3                      9.3   \n",
       "\n",
       "   Stationary Combustion Total Emissions (Sources)  LULUCF Sector Net Total b  \\\n",
       "0                    0.1                  7,083.30                     -862.8   \n",
       "1                    0.1                  7,125.40                     -856.6   \n",
       "2                    0.2                  7,313.60                     -854.0   \n",
       "3                    0.2                  7,203.00                     -852.3   \n",
       "4                    0.2                  7,244.30                     -815.7   \n",
       "\n",
       "  Net Emissions (Sources and Sinks)  \n",
       "0                          6,220.50  \n",
       "1                          6,268.80  \n",
       "2                          6,459.70  \n",
       "3                          6,350.70  \n",
       "4                          6,428.60  "
      ]
     },
     "execution_count": 5,
     "metadata": {},
     "output_type": "execute_result"
    }
   ],
   "source": [
    "ghg_emissions_data.head()"
   ]
  },
  {
   "cell_type": "code",
   "execution_count": 6,
   "id": "fa79b1f9",
   "metadata": {},
   "outputs": [
    {
     "data": {
      "text/html": [
       "<div>\n",
       "<style scoped>\n",
       "    .dataframe tbody tr th:only-of-type {\n",
       "        vertical-align: middle;\n",
       "    }\n",
       "\n",
       "    .dataframe tbody tr th {\n",
       "        vertical-align: top;\n",
       "    }\n",
       "\n",
       "    .dataframe thead th {\n",
       "        text-align: right;\n",
       "    }\n",
       "</style>\n",
       "<table border=\"1\" class=\"dataframe\">\n",
       "  <thead>\n",
       "    <tr style=\"text-align: right;\">\n",
       "      <th></th>\n",
       "      <th>year</th>\n",
       "      <th>Transportation</th>\n",
       "      <th>Electric Power Industry</th>\n",
       "      <th>Industry</th>\n",
       "      <th>Agriculture</th>\n",
       "      <th>Commercial</th>\n",
       "      <th>Residential</th>\n",
       "      <th>CO2 from Fossil Fuel Combustion</th>\n",
       "      <th>CO2 from Fossil Fuel Combustion.1</th>\n",
       "      <th>Non-Energy Use of Fuels</th>\n",
       "      <th>Stationary Combustion</th>\n",
       "      <th>Total Emissions (Sources)</th>\n",
       "      <th>LULUCF Sector Net Total b</th>\n",
       "      <th>Net Emissions (Sources and Sinks)</th>\n",
       "    </tr>\n",
       "  </thead>\n",
       "  <tbody>\n",
       "    <tr>\n",
       "      <th>0</th>\n",
       "      <td>1998</td>\n",
       "      <td>1,792.40</td>\n",
       "      <td>2,229.70</td>\n",
       "      <td>1,661.80</td>\n",
       "      <td>621.8</td>\n",
       "      <td>403.0</td>\n",
       "      <td>346.9</td>\n",
       "      <td>331.6</td>\n",
       "      <td>22.5</td>\n",
       "      <td>5.1</td>\n",
       "      <td>0.1</td>\n",
       "      <td>7,083.30</td>\n",
       "      <td>-862.8</td>\n",
       "      <td>6,220.50</td>\n",
       "    </tr>\n",
       "    <tr>\n",
       "      <th>1</th>\n",
       "      <td>1999</td>\n",
       "      <td>1,863.40</td>\n",
       "      <td>2,243.80</td>\n",
       "      <td>1,609.30</td>\n",
       "      <td>612.7</td>\n",
       "      <td>399.4</td>\n",
       "      <td>366.7</td>\n",
       "      <td>350.9</td>\n",
       "      <td>21.0</td>\n",
       "      <td>8.9</td>\n",
       "      <td>0.1</td>\n",
       "      <td>7,125.40</td>\n",
       "      <td>-856.6</td>\n",
       "      <td>6,268.80</td>\n",
       "    </tr>\n",
       "    <tr>\n",
       "      <th>2</th>\n",
       "      <td>2000</td>\n",
       "      <td>1,913.70</td>\n",
       "      <td>2,349.50</td>\n",
       "      <td>1,598.80</td>\n",
       "      <td>598.1</td>\n",
       "      <td>413.7</td>\n",
       "      <td>388.0</td>\n",
       "      <td>371.7</td>\n",
       "      <td>42.4</td>\n",
       "      <td>9.3</td>\n",
       "      <td>0.2</td>\n",
       "      <td>7,313.60</td>\n",
       "      <td>-854.0</td>\n",
       "      <td>6,459.70</td>\n",
       "    </tr>\n",
       "    <tr>\n",
       "      <th>3</th>\n",
       "      <td>2001</td>\n",
       "      <td>1,885.60</td>\n",
       "      <td>2,310.00</td>\n",
       "      <td>1,549.20</td>\n",
       "      <td>618.9</td>\n",
       "      <td>402.7</td>\n",
       "      <td>378.1</td>\n",
       "      <td>363.1</td>\n",
       "      <td>52.6</td>\n",
       "      <td>5.6</td>\n",
       "      <td>0.2</td>\n",
       "      <td>7,203.00</td>\n",
       "      <td>-852.3</td>\n",
       "      <td>6,350.70</td>\n",
       "    </tr>\n",
       "    <tr>\n",
       "      <th>4</th>\n",
       "      <td>2002</td>\n",
       "      <td>1,926.10</td>\n",
       "      <td>2,325.90</td>\n",
       "      <td>1,532.10</td>\n",
       "      <td>621.9</td>\n",
       "      <td>404.3</td>\n",
       "      <td>375.3</td>\n",
       "      <td>361.1</td>\n",
       "      <td>49.3</td>\n",
       "      <td>9.3</td>\n",
       "      <td>0.2</td>\n",
       "      <td>7,244.30</td>\n",
       "      <td>-815.7</td>\n",
       "      <td>6,428.60</td>\n",
       "    </tr>\n",
       "  </tbody>\n",
       "</table>\n",
       "</div>"
      ],
      "text/plain": [
       "   year Transportation Electric Power Industry  Industry  Agriculture  \\\n",
       "0  1998       1,792.40                2,229.70  1,661.80        621.8   \n",
       "1  1999       1,863.40                2,243.80  1,609.30        612.7   \n",
       "2  2000       1,913.70                2,349.50  1,598.80        598.1   \n",
       "3  2001       1,885.60                2,310.00  1,549.20        618.9   \n",
       "4  2002       1,926.10                2,325.90  1,532.10        621.9   \n",
       "\n",
       "   Commercial  Residential  CO2 from Fossil Fuel Combustion  \\\n",
       "0       403.0        346.9                            331.6   \n",
       "1       399.4        366.7                            350.9   \n",
       "2       413.7        388.0                            371.7   \n",
       "3       402.7        378.1                            363.1   \n",
       "4       404.3        375.3                            361.1   \n",
       "\n",
       "   CO2 from Fossil Fuel Combustion.1  Non-Energy Use of Fuels  \\\n",
       "0                               22.5                      5.1   \n",
       "1                               21.0                      8.9   \n",
       "2                               42.4                      9.3   \n",
       "3                               52.6                      5.6   \n",
       "4                               49.3                      9.3   \n",
       "\n",
       "   Stationary Combustion Total Emissions (Sources)  LULUCF Sector Net Total b  \\\n",
       "0                    0.1                  7,083.30                     -862.8   \n",
       "1                    0.1                  7,125.40                     -856.6   \n",
       "2                    0.2                  7,313.60                     -854.0   \n",
       "3                    0.2                  7,203.00                     -852.3   \n",
       "4                    0.2                  7,244.30                     -815.7   \n",
       "\n",
       "  Net Emissions (Sources and Sinks)  \n",
       "0                          6,220.50  \n",
       "1                          6,268.80  \n",
       "2                          6,459.70  \n",
       "3                          6,350.70  \n",
       "4                          6,428.60  "
      ]
     },
     "execution_count": 6,
     "metadata": {},
     "output_type": "execute_result"
    }
   ],
   "source": [
    "ghg_emissions_data.index = ghg_emissions_data.index.astype(int)\n",
    "ghg_emissions_data.head()\n"
   ]
  },
  {
   "cell_type": "code",
   "execution_count": 7,
   "id": "02fb74a8",
   "metadata": {},
   "outputs": [
    {
     "data": {
      "text/html": [
       "<div>\n",
       "<style scoped>\n",
       "    .dataframe tbody tr th:only-of-type {\n",
       "        vertical-align: middle;\n",
       "    }\n",
       "\n",
       "    .dataframe tbody tr th {\n",
       "        vertical-align: top;\n",
       "    }\n",
       "\n",
       "    .dataframe thead th {\n",
       "        text-align: right;\n",
       "    }\n",
       "</style>\n",
       "<table border=\"1\" class=\"dataframe\">\n",
       "  <thead>\n",
       "    <tr style=\"text-align: right;\">\n",
       "      <th></th>\n",
       "      <th>year</th>\n",
       "      <th>numcol</th>\n",
       "      <th>yieldpercol</th>\n",
       "      <th>totalprod</th>\n",
       "      <th>stocks</th>\n",
       "      <th>priceperlb</th>\n",
       "      <th>prodvalue</th>\n",
       "      <th>Transportation</th>\n",
       "      <th>Electric Power Industry</th>\n",
       "      <th>Industry</th>\n",
       "      <th>Agriculture</th>\n",
       "      <th>Commercial</th>\n",
       "      <th>Residential</th>\n",
       "      <th>CO2 from Fossil Fuel Combustion</th>\n",
       "      <th>CO2 from Fossil Fuel Combustion.1</th>\n",
       "      <th>Non-Energy Use of Fuels</th>\n",
       "      <th>Stationary Combustion</th>\n",
       "      <th>Total Emissions (Sources)</th>\n",
       "      <th>LULUCF Sector Net Total b</th>\n",
       "      <th>Net Emissions (Sources and Sinks)</th>\n",
       "    </tr>\n",
       "  </thead>\n",
       "  <tbody>\n",
       "    <tr>\n",
       "      <th>0</th>\n",
       "      <td>1998</td>\n",
       "      <td>2621000.0</td>\n",
       "      <td>3008</td>\n",
       "      <td>219519000.0</td>\n",
       "      <td>80565000.0</td>\n",
       "      <td>35.80</td>\n",
       "      <td>146091000.0</td>\n",
       "      <td>1,792.40</td>\n",
       "      <td>2,229.70</td>\n",
       "      <td>1,661.80</td>\n",
       "      <td>621.8</td>\n",
       "      <td>403.0</td>\n",
       "      <td>346.9</td>\n",
       "      <td>331.6</td>\n",
       "      <td>22.5</td>\n",
       "      <td>5.1</td>\n",
       "      <td>0.1</td>\n",
       "      <td>7,083.30</td>\n",
       "      <td>-862.8</td>\n",
       "      <td>6,220.50</td>\n",
       "    </tr>\n",
       "    <tr>\n",
       "      <th>1</th>\n",
       "      <td>1999</td>\n",
       "      <td>2637000.0</td>\n",
       "      <td>2815</td>\n",
       "      <td>202387000.0</td>\n",
       "      <td>78390000.0</td>\n",
       "      <td>34.58</td>\n",
       "      <td>123657000.0</td>\n",
       "      <td>1,863.40</td>\n",
       "      <td>2,243.80</td>\n",
       "      <td>1,609.30</td>\n",
       "      <td>612.7</td>\n",
       "      <td>399.4</td>\n",
       "      <td>366.7</td>\n",
       "      <td>350.9</td>\n",
       "      <td>21.0</td>\n",
       "      <td>8.9</td>\n",
       "      <td>0.1</td>\n",
       "      <td>7,125.40</td>\n",
       "      <td>-856.6</td>\n",
       "      <td>6,268.80</td>\n",
       "    </tr>\n",
       "    <tr>\n",
       "      <th>2</th>\n",
       "      <td>2000</td>\n",
       "      <td>2604000.0</td>\n",
       "      <td>2906</td>\n",
       "      <td>219558000.0</td>\n",
       "      <td>84956000.0</td>\n",
       "      <td>34.03</td>\n",
       "      <td>131568000.0</td>\n",
       "      <td>1,913.70</td>\n",
       "      <td>2,349.50</td>\n",
       "      <td>1,598.80</td>\n",
       "      <td>598.1</td>\n",
       "      <td>413.7</td>\n",
       "      <td>388.0</td>\n",
       "      <td>371.7</td>\n",
       "      <td>42.4</td>\n",
       "      <td>9.3</td>\n",
       "      <td>0.2</td>\n",
       "      <td>7,313.60</td>\n",
       "      <td>-854.0</td>\n",
       "      <td>6,459.70</td>\n",
       "    </tr>\n",
       "    <tr>\n",
       "      <th>3</th>\n",
       "      <td>2001</td>\n",
       "      <td>2542000.0</td>\n",
       "      <td>2840</td>\n",
       "      <td>185748000.0</td>\n",
       "      <td>64764000.0</td>\n",
       "      <td>40.12</td>\n",
       "      <td>132282000.0</td>\n",
       "      <td>1,885.60</td>\n",
       "      <td>2,310.00</td>\n",
       "      <td>1,549.20</td>\n",
       "      <td>618.9</td>\n",
       "      <td>402.7</td>\n",
       "      <td>378.1</td>\n",
       "      <td>363.1</td>\n",
       "      <td>52.6</td>\n",
       "      <td>5.6</td>\n",
       "      <td>0.2</td>\n",
       "      <td>7,203.00</td>\n",
       "      <td>-852.3</td>\n",
       "      <td>6,350.70</td>\n",
       "    </tr>\n",
       "    <tr>\n",
       "      <th>4</th>\n",
       "      <td>2002</td>\n",
       "      <td>2565000.0</td>\n",
       "      <td>2939</td>\n",
       "      <td>171265000.0</td>\n",
       "      <td>39177000.0</td>\n",
       "      <td>60.34</td>\n",
       "      <td>227302000.0</td>\n",
       "      <td>1,926.10</td>\n",
       "      <td>2,325.90</td>\n",
       "      <td>1,532.10</td>\n",
       "      <td>621.9</td>\n",
       "      <td>404.3</td>\n",
       "      <td>375.3</td>\n",
       "      <td>361.1</td>\n",
       "      <td>49.3</td>\n",
       "      <td>9.3</td>\n",
       "      <td>0.2</td>\n",
       "      <td>7,244.30</td>\n",
       "      <td>-815.7</td>\n",
       "      <td>6,428.60</td>\n",
       "    </tr>\n",
       "  </tbody>\n",
       "</table>\n",
       "</div>"
      ],
      "text/plain": [
       "   year     numcol  yieldpercol    totalprod      stocks  priceperlb  \\\n",
       "0  1998  2621000.0         3008  219519000.0  80565000.0       35.80   \n",
       "1  1999  2637000.0         2815  202387000.0  78390000.0       34.58   \n",
       "2  2000  2604000.0         2906  219558000.0  84956000.0       34.03   \n",
       "3  2001  2542000.0         2840  185748000.0  64764000.0       40.12   \n",
       "4  2002  2565000.0         2939  171265000.0  39177000.0       60.34   \n",
       "\n",
       "     prodvalue Transportation Electric Power Industry  Industry  Agriculture  \\\n",
       "0  146091000.0       1,792.40                2,229.70  1,661.80        621.8   \n",
       "1  123657000.0       1,863.40                2,243.80  1,609.30        612.7   \n",
       "2  131568000.0       1,913.70                2,349.50  1,598.80        598.1   \n",
       "3  132282000.0       1,885.60                2,310.00  1,549.20        618.9   \n",
       "4  227302000.0       1,926.10                2,325.90  1,532.10        621.9   \n",
       "\n",
       "   Commercial  Residential  CO2 from Fossil Fuel Combustion  \\\n",
       "0       403.0        346.9                            331.6   \n",
       "1       399.4        366.7                            350.9   \n",
       "2       413.7        388.0                            371.7   \n",
       "3       402.7        378.1                            363.1   \n",
       "4       404.3        375.3                            361.1   \n",
       "\n",
       "   CO2 from Fossil Fuel Combustion.1  Non-Energy Use of Fuels  \\\n",
       "0                               22.5                      5.1   \n",
       "1                               21.0                      8.9   \n",
       "2                               42.4                      9.3   \n",
       "3                               52.6                      5.6   \n",
       "4                               49.3                      9.3   \n",
       "\n",
       "   Stationary Combustion Total Emissions (Sources)  LULUCF Sector Net Total b  \\\n",
       "0                    0.1                  7,083.30                     -862.8   \n",
       "1                    0.1                  7,125.40                     -856.6   \n",
       "2                    0.2                  7,313.60                     -854.0   \n",
       "3                    0.2                  7,203.00                     -852.3   \n",
       "4                    0.2                  7,244.30                     -815.7   \n",
       "\n",
       "  Net Emissions (Sources and Sinks)  \n",
       "0                          6,220.50  \n",
       "1                          6,268.80  \n",
       "2                          6,459.70  \n",
       "3                          6,350.70  \n",
       "4                          6,428.60  "
      ]
     },
     "execution_count": 7,
     "metadata": {},
     "output_type": "execute_result"
    }
   ],
   "source": [
    "# Combine the data into a single dataset\n",
    "ghg_honey = pd.merge(bees_data_df, ghg_emissions_data, how=\"left\", on=[\"year\", \"year\"])\n",
    "ghg_honey.head()"
   ]
  },
  {
   "cell_type": "code",
   "execution_count": 8,
   "id": "f27ced72",
   "metadata": {},
   "outputs": [],
   "source": [
    "# converting to floats\n",
    "\n",
    "ghg_honey['Transportation'] = ghg_honey['Transportation'].str.replace(',','').astype(float)\n",
    "ghg_honey['Electric Power Industry'] = ghg_honey['Electric Power Industry'].str.replace(',','').astype(float)\n",
    "\n"
   ]
  },
  {
   "cell_type": "code",
   "execution_count": 9,
   "id": "816d8940",
   "metadata": {},
   "outputs": [
    {
     "data": {
      "text/html": [
       "<div>\n",
       "<style scoped>\n",
       "    .dataframe tbody tr th:only-of-type {\n",
       "        vertical-align: middle;\n",
       "    }\n",
       "\n",
       "    .dataframe tbody tr th {\n",
       "        vertical-align: top;\n",
       "    }\n",
       "\n",
       "    .dataframe thead th {\n",
       "        text-align: right;\n",
       "    }\n",
       "</style>\n",
       "<table border=\"1\" class=\"dataframe\">\n",
       "  <thead>\n",
       "    <tr style=\"text-align: right;\">\n",
       "      <th></th>\n",
       "      <th>Number of Colonies</th>\n",
       "      <th>Yield Per Colony</th>\n",
       "      <th>Total Production</th>\n",
       "      <th>Stocks</th>\n",
       "      <th>Price Per Pound</th>\n",
       "      <th>Production Value</th>\n",
       "    </tr>\n",
       "    <tr>\n",
       "      <th>year</th>\n",
       "      <th></th>\n",
       "      <th></th>\n",
       "      <th></th>\n",
       "      <th></th>\n",
       "      <th></th>\n",
       "      <th></th>\n",
       "    </tr>\n",
       "  </thead>\n",
       "  <tbody>\n",
       "    <tr>\n",
       "      <th>1998</th>\n",
       "      <td>2621000.0</td>\n",
       "      <td>3008</td>\n",
       "      <td>219519000.0</td>\n",
       "      <td>80565000.0</td>\n",
       "      <td>35.80</td>\n",
       "      <td>146091000.0</td>\n",
       "    </tr>\n",
       "    <tr>\n",
       "      <th>1999</th>\n",
       "      <td>2637000.0</td>\n",
       "      <td>2815</td>\n",
       "      <td>202387000.0</td>\n",
       "      <td>78390000.0</td>\n",
       "      <td>34.58</td>\n",
       "      <td>123657000.0</td>\n",
       "    </tr>\n",
       "    <tr>\n",
       "      <th>2000</th>\n",
       "      <td>2604000.0</td>\n",
       "      <td>2906</td>\n",
       "      <td>219558000.0</td>\n",
       "      <td>84956000.0</td>\n",
       "      <td>34.03</td>\n",
       "      <td>131568000.0</td>\n",
       "    </tr>\n",
       "    <tr>\n",
       "      <th>2001</th>\n",
       "      <td>2542000.0</td>\n",
       "      <td>2840</td>\n",
       "      <td>185748000.0</td>\n",
       "      <td>64764000.0</td>\n",
       "      <td>40.12</td>\n",
       "      <td>132282000.0</td>\n",
       "    </tr>\n",
       "    <tr>\n",
       "      <th>2002</th>\n",
       "      <td>2565000.0</td>\n",
       "      <td>2939</td>\n",
       "      <td>171265000.0</td>\n",
       "      <td>39177000.0</td>\n",
       "      <td>60.34</td>\n",
       "      <td>227302000.0</td>\n",
       "    </tr>\n",
       "  </tbody>\n",
       "</table>\n",
       "</div>"
      ],
      "text/plain": [
       "      Number of Colonies  Yield Per Colony  Total Production      Stocks  \\\n",
       "year                                                                       \n",
       "1998           2621000.0              3008       219519000.0  80565000.0   \n",
       "1999           2637000.0              2815       202387000.0  78390000.0   \n",
       "2000           2604000.0              2906       219558000.0  84956000.0   \n",
       "2001           2542000.0              2840       185748000.0  64764000.0   \n",
       "2002           2565000.0              2939       171265000.0  39177000.0   \n",
       "\n",
       "      Price Per Pound  Production Value  \n",
       "year                                     \n",
       "1998            35.80       146091000.0  \n",
       "1999            34.58       123657000.0  \n",
       "2000            34.03       131568000.0  \n",
       "2001            40.12       132282000.0  \n",
       "2002            60.34       227302000.0  "
      ]
     },
     "execution_count": 9,
     "metadata": {},
     "output_type": "execute_result"
    }
   ],
   "source": [
    "# Rename the headers\n",
    "bees_data_renamed_df = bees_data_df.rename(columns={\"state\":\"State\", \"numcol\": \"Number of Colonies\",\n",
    "                                     \"yieldpercol\":\"Yield Per Colony\",\"totalprod\": \"Total Production\",\n",
    "                                     \"stocks\": \"Stocks\", \"priceperlb\": \"Price Per Pound\", \n",
    "                                      \"prodvalue\": \"Production Value\", \"year\": \"Year\"})\n",
    "bees_data_renamed_df.head()\n"
   ]
  },
  {
   "cell_type": "code",
   "execution_count": 10,
   "id": "f354f807",
   "metadata": {},
   "outputs": [
    {
     "data": {
      "text/plain": [
       "44"
      ]
     },
     "execution_count": 10,
     "metadata": {},
     "output_type": "execute_result"
    }
   ],
   "source": [
    "#Count States in Dataset\n",
    "bees_data['state'].nunique()"
   ]
  },
  {
   "cell_type": "code",
   "execution_count": 11,
   "id": "b7afbd1b",
   "metadata": {},
   "outputs": [
    {
     "data": {
      "text/plain": [
       "array(['AL', 'AZ', 'AR', 'CA', 'CO', 'FL', 'GA', 'HI', 'ID', 'IL', 'IN',\n",
       "       'IA', 'KS', 'KY', 'LA', 'ME', 'MD', 'MI', 'MN', 'MS', 'MO', 'MT',\n",
       "       'NE', 'NV', 'NJ', 'NM', 'NY', 'NC', 'ND', 'OH', 'OK', 'OR', 'PA',\n",
       "       'SD', 'TN', 'TX', 'UT', 'VT', 'VA', 'WA', 'WV', 'WI', 'WY', 'SC'],\n",
       "      dtype=object)"
      ]
     },
     "execution_count": 11,
     "metadata": {},
     "output_type": "execute_result"
    }
   ],
   "source": [
    "bees_data['state'].unique()"
   ]
  },
  {
   "cell_type": "code",
   "execution_count": 12,
   "id": "272b0460",
   "metadata": {},
   "outputs": [],
   "source": [
    "#Average production of honey per state across the years\n",
    "bees_state_prod = bees_data[['state', 'totalprod']].groupby('state').mean().round()"
   ]
  },
  {
   "cell_type": "code",
   "execution_count": 13,
   "id": "e103f929",
   "metadata": {},
   "outputs": [],
   "source": [
    "bees_state_prod = pd.DataFrame(bees_state_prod.groupby(\"state\")[\"totalprod\"].mean().round())"
   ]
  },
  {
   "cell_type": "code",
   "execution_count": 14,
   "id": "cb19d7f9",
   "metadata": {},
   "outputs": [
    {
     "data": {
      "text/html": [
       "<div>\n",
       "<style scoped>\n",
       "    .dataframe tbody tr th:only-of-type {\n",
       "        vertical-align: middle;\n",
       "    }\n",
       "\n",
       "    .dataframe tbody tr th {\n",
       "        vertical-align: top;\n",
       "    }\n",
       "\n",
       "    .dataframe thead th {\n",
       "        text-align: right;\n",
       "    }\n",
       "</style>\n",
       "<table border=\"1\" class=\"dataframe\">\n",
       "  <thead>\n",
       "    <tr style=\"text-align: right;\">\n",
       "      <th></th>\n",
       "      <th>totalprod</th>\n",
       "    </tr>\n",
       "    <tr>\n",
       "      <th>state</th>\n",
       "      <th></th>\n",
       "    </tr>\n",
       "  </thead>\n",
       "  <tbody>\n",
       "    <tr>\n",
       "      <th>AL</th>\n",
       "      <td>667682.0</td>\n",
       "    </tr>\n",
       "    <tr>\n",
       "      <th>AR</th>\n",
       "      <td>2407182.0</td>\n",
       "    </tr>\n",
       "    <tr>\n",
       "      <th>AZ</th>\n",
       "      <td>1723091.0</td>\n",
       "    </tr>\n",
       "    <tr>\n",
       "      <th>CA</th>\n",
       "      <td>19721136.0</td>\n",
       "    </tr>\n",
       "    <tr>\n",
       "      <th>CO</th>\n",
       "      <td>1614273.0</td>\n",
       "    </tr>\n",
       "  </tbody>\n",
       "</table>\n",
       "</div>"
      ],
      "text/plain": [
       "        totalprod\n",
       "state            \n",
       "AL       667682.0\n",
       "AR      2407182.0\n",
       "AZ      1723091.0\n",
       "CA     19721136.0\n",
       "CO      1614273.0"
      ]
     },
     "execution_count": 14,
     "metadata": {},
     "output_type": "execute_result"
    }
   ],
   "source": [
    "bees_state_prod.head(5)"
   ]
  },
  {
   "cell_type": "code",
   "execution_count": 15,
   "id": "23f55378",
   "metadata": {},
   "outputs": [],
   "source": [
    "bees_state_prod.sort_values('totalprod', ascending=False, inplace=True)"
   ]
  },
  {
   "cell_type": "code",
   "execution_count": 16,
   "id": "be639d86",
   "metadata": {},
   "outputs": [
    {
     "data": {
      "image/png": "[encoded data removed]",
      "text/plain": [
       "<Figure size 432x288 with 1 Axes>"
      ]
     },
     "metadata": {
      "needs_background": "light"
     },
     "output_type": "display_data"
    },
    {
     "data": {
      "text/plain": [
       "<Figure size 1080x288 with 0 Axes>"
      ]
     },
     "metadata": {},
     "output_type": "display_data"
    }
   ],
   "source": [
    "#Bar chart for total production per state\n",
    "x_axis = np.arange(len(bees_state_prod))\n",
    "tick_locations = bees_data['state'].unique()\n",
    "\n",
    "plt.bar(x_axis, bees_state_prod['totalprod'])\n",
    "plt.xticks(x_axis, tick_locations, rotation=\"vertical\")\n",
    "plt.tick_params(axis='x', which='major', labelsize=5)\n",
    "\n",
    "\n",
    "plt.title(\"Total Honey Production per State\")\n",
    "plt.xlabel(\"State\")\n",
    "plt.ylabel(\"Total Production in Pounds\")\n",
    "\n",
    "plt.figure(figsize=(15, 4))\n",
    "\n",
    "plt.show()\n"
   ]
  },
  {
   "cell_type": "code",
   "execution_count": 17,
   "id": "56f1e284",
   "metadata": {},
   "outputs": [
    {
     "data": {
      "text/plain": [
       "22"
      ]
     },
     "execution_count": 17,
     "metadata": {},
     "output_type": "execute_result"
    }
   ],
   "source": [
    "#Count years in dataset\n",
    "bees_data['year'].nunique()"
   ]
  },
  {
   "cell_type": "code",
   "execution_count": 18,
   "id": "8f6bf9ad",
   "metadata": {},
   "outputs": [
    {
     "data": {
      "text/plain": [
       "1998"
      ]
     },
     "execution_count": 18,
     "metadata": {},
     "output_type": "execute_result"
    }
   ],
   "source": [
    "bees_data['year'].min()\n"
   ]
  },
  {
   "cell_type": "code",
   "execution_count": 19,
   "id": "bc50db06",
   "metadata": {},
   "outputs": [
    {
     "data": {
      "text/plain": [
       "2019"
      ]
     },
     "execution_count": 19,
     "metadata": {},
     "output_type": "execute_result"
    }
   ],
   "source": [
    "bees_data['year'].max()"
   ]
  },
  {
   "cell_type": "code",
   "execution_count": 20,
   "id": "df9ba913",
   "metadata": {},
   "outputs": [
    {
     "data": {
      "text/plain": [
       "Index(['state', 'numcol', 'yieldpercol', 'totalprod', 'stocks', 'priceperlb',\n",
       "       'prodvalue', 'year'],\n",
       "      dtype='object')"
      ]
     },
     "execution_count": 20,
     "metadata": {},
     "output_type": "execute_result"
    }
   ],
   "source": [
    "bees_data.columns\n"
   ]
  },
  {
   "cell_type": "code",
   "execution_count": 21,
   "id": "7ed6913a",
   "metadata": {},
   "outputs": [
    {
     "data": {
      "text/plain": [
       "Number of Colonies    22\n",
       "Yield Per Colony      22\n",
       "Total Production      22\n",
       "Stocks                22\n",
       "Price Per Pound       22\n",
       "Production Value      22\n",
       "dtype: int64"
      ]
     },
     "execution_count": 21,
     "metadata": {},
     "output_type": "execute_result"
    }
   ],
   "source": [
    "bees_data_renamed_df.count()"
   ]
  },
  {
   "cell_type": "code",
   "execution_count": 22,
   "id": "4fa29025",
   "metadata": {},
   "outputs": [
    {
     "data": {
      "text/html": [
       "<div>\n",
       "<style scoped>\n",
       "    .dataframe tbody tr th:only-of-type {\n",
       "        vertical-align: middle;\n",
       "    }\n",
       "\n",
       "    .dataframe tbody tr th {\n",
       "        vertical-align: top;\n",
       "    }\n",
       "\n",
       "    .dataframe thead th {\n",
       "        text-align: right;\n",
       "    }\n",
       "</style>\n",
       "<table border=\"1\" class=\"dataframe\">\n",
       "  <thead>\n",
       "    <tr style=\"text-align: right;\">\n",
       "      <th></th>\n",
       "      <th>Number of Colonies</th>\n",
       "      <th>Yield Per Colony</th>\n",
       "      <th>Total Production</th>\n",
       "      <th>Stocks</th>\n",
       "      <th>Price Per Pound</th>\n",
       "      <th>Production Value</th>\n",
       "    </tr>\n",
       "  </thead>\n",
       "  <tbody>\n",
       "    <tr>\n",
       "      <th>count</th>\n",
       "      <td>2.200000e+01</td>\n",
       "      <td>22.000000</td>\n",
       "      <td>2.200000e+01</td>\n",
       "      <td>2.200000e+01</td>\n",
       "      <td>22.000000</td>\n",
       "      <td>2.200000e+01</td>\n",
       "    </tr>\n",
       "    <tr>\n",
       "      <th>mean</th>\n",
       "      <td>2.574591e+06</td>\n",
       "      <td>2445.318182</td>\n",
       "      <td>1.683893e+08</td>\n",
       "      <td>4.942118e+07</td>\n",
       "      <td>76.775455</td>\n",
       "      <td>2.387700e+08</td>\n",
       "    </tr>\n",
       "    <tr>\n",
       "      <th>std</th>\n",
       "      <td>1.264138e+05</td>\n",
       "      <td>323.697299</td>\n",
       "      <td>2.308021e+07</td>\n",
       "      <td>1.655787e+07</td>\n",
       "      <td>31.079714</td>\n",
       "      <td>7.887202e+07</td>\n",
       "    </tr>\n",
       "    <tr>\n",
       "      <th>min</th>\n",
       "      <td>2.326000e+06</td>\n",
       "      <td>2035.000000</td>\n",
       "      <td>1.409070e+08</td>\n",
       "      <td>2.877700e+07</td>\n",
       "      <td>34.030000</td>\n",
       "      <td>1.236570e+08</td>\n",
       "    </tr>\n",
       "    <tr>\n",
       "      <th>25%</th>\n",
       "      <td>2.481250e+06</td>\n",
       "      <td>2170.000000</td>\n",
       "      <td>1.498615e+08</td>\n",
       "      <td>3.841425e+07</td>\n",
       "      <td>52.865000</td>\n",
       "      <td>1.609338e+08</td>\n",
       "    </tr>\n",
       "    <tr>\n",
       "      <th>50%</th>\n",
       "      <td>2.597500e+06</td>\n",
       "      <td>2360.000000</td>\n",
       "      <td>1.616645e+08</td>\n",
       "      <td>4.141100e+07</td>\n",
       "      <td>69.565000</td>\n",
       "      <td>2.410355e+08</td>\n",
       "    </tr>\n",
       "    <tr>\n",
       "      <th>75%</th>\n",
       "      <td>2.639250e+06</td>\n",
       "      <td>2728.250000</td>\n",
       "      <td>1.802455e+08</td>\n",
       "      <td>6.079450e+07</td>\n",
       "      <td>110.752500</td>\n",
       "      <td>3.124065e+08</td>\n",
       "    </tr>\n",
       "    <tr>\n",
       "      <th>max</th>\n",
       "      <td>2.782000e+06</td>\n",
       "      <td>3008.000000</td>\n",
       "      <td>2.195580e+08</td>\n",
       "      <td>8.495600e+07</td>\n",
       "      <td>120.470000</td>\n",
       "      <td>3.835140e+08</td>\n",
       "    </tr>\n",
       "  </tbody>\n",
       "</table>\n",
       "</div>"
      ],
      "text/plain": [
       "       Number of Colonies  Yield Per Colony  Total Production        Stocks  \\\n",
       "count        2.200000e+01         22.000000      2.200000e+01  2.200000e+01   \n",
       "mean         2.574591e+06       2445.318182      1.683893e+08  4.942118e+07   \n",
       "std          1.264138e+05        323.697299      2.308021e+07  1.655787e+07   \n",
       "min          2.326000e+06       2035.000000      1.409070e+08  2.877700e+07   \n",
       "25%          2.481250e+06       2170.000000      1.498615e+08  3.841425e+07   \n",
       "50%          2.597500e+06       2360.000000      1.616645e+08  4.141100e+07   \n",
       "75%          2.639250e+06       2728.250000      1.802455e+08  6.079450e+07   \n",
       "max          2.782000e+06       3008.000000      2.195580e+08  8.495600e+07   \n",
       "\n",
       "       Price Per Pound  Production Value  \n",
       "count        22.000000      2.200000e+01  \n",
       "mean         76.775455      2.387700e+08  \n",
       "std          31.079714      7.887202e+07  \n",
       "min          34.030000      1.236570e+08  \n",
       "25%          52.865000      1.609338e+08  \n",
       "50%          69.565000      2.410355e+08  \n",
       "75%         110.752500      3.124065e+08  \n",
       "max         120.470000      3.835140e+08  "
      ]
     },
     "execution_count": 22,
     "metadata": {},
     "output_type": "execute_result"
    }
   ],
   "source": [
    "bees_data_renamed_df.describe()"
   ]
  },
  {
   "cell_type": "code",
   "execution_count": 23,
   "id": "d9cfc5af",
   "metadata": {},
   "outputs": [
    {
     "data": {
      "text/plain": [
       "Number of Colonies    float64\n",
       "Yield Per Colony        int64\n",
       "Total Production      float64\n",
       "Stocks                float64\n",
       "Price Per Pound       float64\n",
       "Production Value      float64\n",
       "dtype: object"
      ]
     },
     "execution_count": 23,
     "metadata": {},
     "output_type": "execute_result"
    }
   ],
   "source": [
    "bees_data_renamed_df.dtypes"
   ]
  },
  {
   "cell_type": "code",
   "execution_count": 24,
   "id": "d3fabcbe",
   "metadata": {},
   "outputs": [],
   "source": [
    "honeyprod_year = bees_data_renamed_df.astype('category')"
   ]
  },
  {
   "cell_type": "code",
   "execution_count": 25,
   "id": "a81b4c43",
   "metadata": {},
   "outputs": [
    {
     "data": {
      "text/html": [
       "<div>\n",
       "<style scoped>\n",
       "    .dataframe tbody tr th:only-of-type {\n",
       "        vertical-align: middle;\n",
       "    }\n",
       "\n",
       "    .dataframe tbody tr th {\n",
       "        vertical-align: top;\n",
       "    }\n",
       "\n",
       "    .dataframe thead th {\n",
       "        text-align: right;\n",
       "    }\n",
       "</style>\n",
       "<table border=\"1\" class=\"dataframe\">\n",
       "  <thead>\n",
       "    <tr style=\"text-align: right;\">\n",
       "      <th></th>\n",
       "      <th>Number of Colonies</th>\n",
       "      <th>Yield Per Colony</th>\n",
       "      <th>Total Production</th>\n",
       "      <th>Stocks</th>\n",
       "      <th>Price Per Pound</th>\n",
       "      <th>Production Value</th>\n",
       "    </tr>\n",
       "  </thead>\n",
       "  <tbody>\n",
       "    <tr>\n",
       "      <th>count</th>\n",
       "      <td>22.0</td>\n",
       "      <td>22</td>\n",
       "      <td>22.0</td>\n",
       "      <td>22.0</td>\n",
       "      <td>22.00</td>\n",
       "      <td>22.0</td>\n",
       "    </tr>\n",
       "    <tr>\n",
       "      <th>unique</th>\n",
       "      <td>22.0</td>\n",
       "      <td>22</td>\n",
       "      <td>22.0</td>\n",
       "      <td>22.0</td>\n",
       "      <td>22.00</td>\n",
       "      <td>22.0</td>\n",
       "    </tr>\n",
       "    <tr>\n",
       "      <th>top</th>\n",
       "      <td>2326000.0</td>\n",
       "      <td>2035</td>\n",
       "      <td>140907000.0</td>\n",
       "      <td>28777000.0</td>\n",
       "      <td>34.03</td>\n",
       "      <td>123657000.0</td>\n",
       "    </tr>\n",
       "    <tr>\n",
       "      <th>freq</th>\n",
       "      <td>1.0</td>\n",
       "      <td>1</td>\n",
       "      <td>1.0</td>\n",
       "      <td>1.0</td>\n",
       "      <td>1.00</td>\n",
       "      <td>1.0</td>\n",
       "    </tr>\n",
       "  </tbody>\n",
       "</table>\n",
       "</div>"
      ],
      "text/plain": [
       "        Number of Colonies  Yield Per Colony  Total Production      Stocks  \\\n",
       "count                 22.0                22              22.0        22.0   \n",
       "unique                22.0                22              22.0        22.0   \n",
       "top              2326000.0              2035       140907000.0  28777000.0   \n",
       "freq                   1.0                 1               1.0         1.0   \n",
       "\n",
       "        Price Per Pound  Production Value  \n",
       "count             22.00              22.0  \n",
       "unique            22.00              22.0  \n",
       "top               34.03       123657000.0  \n",
       "freq               1.00               1.0  "
      ]
     },
     "execution_count": 25,
     "metadata": {},
     "output_type": "execute_result"
    }
   ],
   "source": [
    "honeyprod_year.describe()"
   ]
  },
  {
   "cell_type": "code",
   "execution_count": 26,
   "id": "19fac1af",
   "metadata": {},
   "outputs": [
    {
     "data": {
      "image/png": "[encoded data removed]",
      "text/plain": [
       "<Figure size 432x288 with 1 Axes>"
      ]
     },
     "metadata": {
      "needs_background": "light"
     },
     "output_type": "display_data"
    }
   ],
   "source": [
    "# Generate a scatter plot of honey production vs. transportaion emissions\n",
    "\n",
    "plt.scatter(ghg_honey[\"totalprod\"], ghg_honey[\"Transportation\"])\n",
    "plt.xlabel(\"Total Emissions from Transportation\")\n",
    "plt.ylabel(\"Total Honey Production in US\")\n",
    "plt.title(\"Honey Production vs Transportation Emissions in US\")\n",
    "plt.show()"
   ]
  },
  {
   "cell_type": "code",
   "execution_count": 27,
   "id": "643bd8ac",
   "metadata": {
    "scrolled": true
   },
   "outputs": [
    {
     "name": "stdout",
     "output_type": "stream",
     "text": [
      "y = 0.0x +1750.09\n",
      "The r-value is: 0.2022640302090919\n"
     ]
    },
    {
     "data": {
      "image/png": "[encoded data removed]",
      "text/plain": [
       "<Figure size 432x288 with 1 Axes>"
      ]
     },
     "metadata": {
      "needs_background": "light"
     },
     "output_type": "display_data"
    }
   ],
   "source": [
    "# Perform a linear regression on honey production and transportation emissions\n",
    "\n",
    "x_values = ghg_honey[\"totalprod\"]\n",
    "y_values = ghg_honey[\"Transportation\"]\n",
    "(slope, intercept, rvalue, pvalue, stderr) = stats.linregress(x_values, y_values)\n",
    "\n",
    "\n",
    "# Get regression values\n",
    "regress_values = x_values * slope + intercept\n",
    "#print(regress_values)\n",
    "\n",
    "# Create line equation string\n",
    "line_eq = \"y = \" + str(round(slope,2)) + \"x +\" + str(round(intercept,2))\n",
    "print(line_eq)\n",
    "\n",
    "# Create Plot\n",
    "plt.scatter(x_values,y_values)\n",
    "plt.plot(x_values,regress_values,\"r-\")\n",
    "\n",
    "# Label plot and annotate the line equation\n",
    "plt.xlabel('Transportation Emissions')\n",
    "plt.ylabel('Honey Production')\n",
    "plt.annotate(line_eq,(20,15),fontsize=15,color=\"red\")\n",
    "plt.grid(linestyle='-', linewidth = 2)\n",
    "plt.title(\"Honey Production vs Transportation Emissions in US\")\n",
    "\n",
    "# Print r value\n",
    "print(f\"The r-value is: {rvalue}\")"
   ]
  },
  {
   "cell_type": "code",
   "execution_count": 28,
   "id": "c234b726",
   "metadata": {},
   "outputs": [
    {
     "data": {
      "image/png": "[encoded data removed]",
      "text/plain": [
       "<Figure size 432x288 with 1 Axes>"
      ]
     },
     "metadata": {
      "needs_background": "light"
     },
     "output_type": "display_data"
    }
   ],
   "source": [
    "# Generate a scatter plot of honey production vs. electric power industry emissions\n",
    "\n",
    "plt.scatter(ghg_honey[\"totalprod\"], ghg_honey[\"Electric Power Industry\"])\n",
    "plt.xlabel(\"Total Emissions from Electric Power Industry\")\n",
    "plt.ylabel(\"Total Honey Production\")\n",
    "plt.title(\"Honey Production vs Electric Power Industry Emissions in US\")\n",
    "plt.show()"
   ]
  },
  {
   "cell_type": "code",
   "execution_count": 29,
   "id": "7f680713",
   "metadata": {},
   "outputs": [
    {
     "name": "stdout",
     "output_type": "stream",
     "text": [
      "y = 0.0x +1510.05\n",
      "The r-value is: 0.3832420720207557\n"
     ]
    },
    {
     "data": {
      "image/png": "[encoded data removed]",
      "text/plain": [
       "<Figure size 432x288 with 1 Axes>"
      ]
     },
     "metadata": {
      "needs_background": "light"
     },
     "output_type": "display_data"
    }
   ],
   "source": [
    "# Perform a linear regression on honey production and electric power industry emissions\n",
    "\n",
    "x_values = ghg_honey[\"totalprod\"]\n",
    "y_values = ghg_honey[\"Electric Power Industry\"]\n",
    "(slope, intercept, rvalue, pvalue, stderr) = stats.linregress(x_values, y_values)\n",
    "\n",
    "\n",
    "# Get regression values\n",
    "regress_values = x_values * slope + intercept\n",
    "#print(regress_values)\n",
    "\n",
    "# Create line equation string\n",
    "line_eq = \"y = \" + str(round(slope,2)) + \"x +\" + str(round(intercept,2))\n",
    "print(line_eq)\n",
    "\n",
    "# Create Plot\n",
    "plt.scatter(x_values,y_values)\n",
    "plt.plot(x_values,regress_values,\"r-\")\n",
    "\n",
    "# Label plot and annotate the line equation\n",
    "plt.xlabel('Electric Power Industry Emissions')\n",
    "plt.ylabel('Honey Production')\n",
    "plt.annotate(line_eq,(20,15),fontsize=15,color=\"red\")\n",
    "plt.grid(linestyle='-', linewidth = 2)\n",
    "plt.title(\"Honey Production vs Electric Power Industry Emissions in US\")\n",
    "\n",
    "# Print r value\n",
    "print(f\"The r-value is: {rvalue}\")"
   ]
  },
  {
   "cell_type": "code",
   "execution_count": 30,
   "id": "8db19a90",
   "metadata": {},
   "outputs": [
    {
     "data": {
      "image/png": "[encoded data removed]",
      "text/plain": [
       "<Figure size 432x288 with 1 Axes>"
      ]
     },
     "metadata": {
      "needs_background": "light"
     },
     "output_type": "display_data"
    }
   ],
   "source": [
    "# Generate a scatter plot of honey production vs. agriculture emissions\n",
    "\n",
    "plt.scatter(ghg_honey[\"totalprod\"], ghg_honey[\"Agriculture\"])\n",
    "plt.xlabel(\"Total Emissions from Agriculture\")\n",
    "plt.ylabel(\"Total Honey Production\")\n",
    "plt.title(\"Honey Production vs Agriculturey Emissions in US\")\n",
    "plt.show()"
   ]
  },
  {
   "cell_type": "code",
   "execution_count": 31,
   "id": "b86d22e4",
   "metadata": {},
   "outputs": [
    {
     "name": "stdout",
     "output_type": "stream",
     "text": [
      "y = -0.0x +705.31\n",
      "The r-value is: -0.5253741332437419\n"
     ]
    },
    {
     "data": {
      "image/png": "[encoded data removed]",
      "text/plain": [
       "<Figure size 432x288 with 1 Axes>"
      ]
     },
     "metadata": {
      "needs_background": "light"
     },
     "output_type": "display_data"
    }
   ],
   "source": [
    "# Perform a linear regression on honey production and agriculture emissions\n",
    "\n",
    "x_values = ghg_honey[\"totalprod\"]\n",
    "y_values = ghg_honey[\"Agriculture\"]\n",
    "(slope, intercept, rvalue, pvalue, stderr) = stats.linregress(x_values, y_values)\n",
    "\n",
    "\n",
    "# Get regression values\n",
    "regress_values = x_values * slope + intercept\n",
    "#print(regress_values)\n",
    "\n",
    "# Create line equation string\n",
    "line_eq = \"y = \" + str(round(slope,2)) + \"x +\" + str(round(intercept,2))\n",
    "print(line_eq)\n",
    "\n",
    "# Create Plot\n",
    "plt.scatter(x_values,y_values)\n",
    "plt.plot(x_values,regress_values,\"r-\")\n",
    "\n",
    "# Label plot and annotate the line equation\n",
    "plt.xlabel('Agriculture Emissions')\n",
    "plt.ylabel('Honey Production')\n",
    "plt.annotate(line_eq,(20,15),fontsize=15,color=\"red\")\n",
    "plt.grid(linestyle='-', linewidth = 2)\n",
    "plt.title(\"Honey Production vs Agriculture Emissions in US\")\n",
    "\n",
    "# Print r value\n",
    "print(f\"The r-value is: {rvalue}\")"
   ]
  },
  {
   "cell_type": "code",
   "execution_count": 32,
   "id": "3bbcef76",
   "metadata": {},
   "outputs": [
    {
     "ename": "NameError",
     "evalue": "name 'LinearRegression' is not defined",
     "output_type": "error",
     "traceback": [
      "\u001b[0;31m---------------------------------------------------------------------------\u001b[0m",
      "\u001b[0;31mNameError\u001b[0m                                 Traceback (most recent call last)",
      "\u001b[0;32m/var/folders/lk/dw3l6l794gq9cj5r7gnp3r3w0000gp/T/ipykernel_13584/1398649398.py\u001b[0m in \u001b[0;36m<module>\u001b[0;34m\u001b[0m\n\u001b[1;32m      1\u001b[0m \u001b[0;31m#fit regression model\u001b[0m\u001b[0;34m\u001b[0m\u001b[0;34m\u001b[0m\u001b[0m\n\u001b[0;32m----> 2\u001b[0;31m \u001b[0mmodel\u001b[0m \u001b[0;34m=\u001b[0m \u001b[0mLinearRegression\u001b[0m\u001b[0;34m(\u001b[0m\u001b[0;34m)\u001b[0m\u001b[0;34m\u001b[0m\u001b[0;34m\u001b[0m\u001b[0m\n\u001b[0m\u001b[1;32m      3\u001b[0m \u001b[0mX\u001b[0m\u001b[0;34m,\u001b[0m \u001b[0my\u001b[0m \u001b[0;34m=\u001b[0m \u001b[0mghg_honey\u001b[0m\u001b[0;34m[\u001b[0m\u001b[0;34m[\u001b[0m\u001b[0;34m\"totalprod\"\u001b[0m\u001b[0;34m,\u001b[0m \u001b[0;34m\"Transportation\"\u001b[0m\u001b[0;34m]\u001b[0m\u001b[0;34m]\u001b[0m\u001b[0;34m\u001b[0m\u001b[0;34m\u001b[0m\u001b[0m\n\u001b[1;32m      4\u001b[0m \u001b[0mmodel\u001b[0m\u001b[0;34m.\u001b[0m\u001b[0mfit\u001b[0m\u001b[0;34m(\u001b[0m\u001b[0mX\u001b[0m\u001b[0;34m,\u001b[0m \u001b[0my\u001b[0m\u001b[0;34m)\u001b[0m\u001b[0;34m\u001b[0m\u001b[0;34m\u001b[0m\u001b[0m\n\u001b[1;32m      5\u001b[0m \u001b[0;34m\u001b[0m\u001b[0m\n",
      "\u001b[0;31mNameError\u001b[0m: name 'LinearRegression' is not defined"
     ]
    }
   ],
   "source": [
    "#fit regression model\n",
    "model = LinearRegression()\n",
    "X, y = ghg_honey[[\"totalprod\", \"Transportation\"]]\n",
    "model.fit(X, y)\n",
    "\n",
    "#display adjusted R-squared\n",
    "1 - (1-model.score(X, y))*(len(y)-1)/(len(y)-X.shape[1]-1)"
   ]
  },
  {
   "cell_type": "code",
   "execution_count": null,
   "id": "02f8bb85",
   "metadata": {},
   "outputs": [],
   "source": []
  }
 ],
 "metadata": {
  "kernelspec": {
   "display_name": "Python 3 (ipykernel)",
   "language": "python",
   "name": "python3"
  },
  "language_info": {
   "codemirror_mode": {
    "name": "ipython",
    "version": 3
   },
   "file_extension": ".py",
   "mimetype": "text/x-python",
   "name": "python",
   "nbconvert_exporter": "python",
   "pygments_lexer": "ipython3",
   "version": "3.9.7"
  }
 },
 "nbformat": 4,
 "nbformat_minor": 5
}
